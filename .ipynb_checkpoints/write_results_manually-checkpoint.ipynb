{
 "cells": [
  {
   "cell_type": "markdown",
   "id": "293d9a67",
   "metadata": {},
   "source": [
    "The next cell is to address the following error that arose after manually editing the central results file:\n",
    "\"json.decoder.JSONDecodeError: Expecting property name enclosed in double quotes: line 1 column 1789 (char 1788)\"\n",
    "This is for manual editing."
   ]
  },
  {
   "cell_type": "code",
   "execution_count": null,
   "id": "7d635f5d",
   "metadata": {},
   "outputs": [],
   "source": [
    "import json\n",
    "results_dict = {\"Stack__./models/wiseft/ViTB32_8/zeroshot.pt__./models/wiseft/ViTB32_8/finetuned/checkpoint_10.pt__125, DeterministicImageNet\": {\"accuracy\": 0.7619, \"val_loss\": 802.1857429970987}, \"Stack__./models/wiseft/ViTB32_8/zeroshot.pt__./models/wiseft/ViTB32_8/finetuned/checkpoint_10.pt__125, ImageNetV2\": {\"accuracy\": 0.6526, \"val_loss\": 258.0610283613205}, \"./models/wiseft/ViTB32_8/zeroshot.pt, DeterministicImageNet\": {\"accuracy\": 0.62934, \"val_loss\": 1290.983900883235}, \"./models/wiseft/ViTB32_8/zeroshot.pt, ImageNetV2\": {\"accuracy\": 0.551, \"val_loss\": 343.7056163549423}, \"./models/wiseft/ViTB32_8/finetuned/checkpoint_10.pt, DeterministicImageNet\": {\"accuracy\": 0.75792, \"val_loss\": 928.6462971735746}, \"./models/wiseft/ViTB32_8/finetuned/checkpoint_10.pt, ImageNetV2\": {\"accuracy\": 0.6412, \"val_loss\": 316.9530791044235}, \"WSE__./models/wiseft/ViTB32_8/zeroshot.pt__./models/wiseft/ViTB32_8/finetuned/checkpoint_10.pt, DeterministicImageNet\": {\"accuracy\": 0.7568, \"val_loss\": 871.6008926071227}, \"WSE__./models/wiseft/ViTB32_8/zeroshot.pt__./models/wiseft/ViTB32_8/finetuned/checkpoint_10.pt, ImageNetV2\": {\"accuracy\": 0.6535, \"val_loss\": 275.73413586616516}, \"OSE__./models/wiseft/ViTB32_8/zeroshot.pt__./models/wiseft/ViTB32_8/finetuned/checkpoint_10.pt, DeterministicImageNet\": {\"accuracy\": 0.76194, \"val_loss\": -1.0}, \"OSE__./models/wiseft/ViTB32_8/zeroshot.pt__./models/wiseft/ViTB32_8/finetuned/checkpoint_10.pt, ImageNetV2\": {\"accuracy\": 0.6527, \"val_loss\": -1.0}, \"OAE__./models/wiseft/ViTB32_8/zeroshot.pt__./models/wiseft/ViTB32_8/finetuned/checkpoint_10.pt, DeterministicImageNet\": {\"accuracy\": 0.82638, \"val_loss\": -1.0}, \"OAE__./models/wiseft/ViTB32_8/zeroshot.pt__./models/wiseft/ViTB32_8/finetuned/checkpoint_10.pt, ImageNetV2\": {\"accuracy\": 0.7311, \"val_loss\": -1.0}}\n",
    "\n",
    "# with open(\"central_results.txt\",\"w\") as file: # Commented out to prevent accidentally overwriting later results\n",
    "#     file.write(json.dumps(results_dict)) "
   ]
  },
  {
   "cell_type": "markdown",
   "id": "533504ad",
   "metadata": {},
   "source": [
    "The next cell is to create a csv file with accuracies for all the models that are based on the same two base models, including all the different versions of stacks built off of them."
   ]
  },
  {
   "cell_type": "code",
   "execution_count": null,
   "id": "a751b3c7",
   "metadata": {},
   "outputs": [],
   "source": [
    "import json\n",
    "model1 = \"./models/wiseft/ViTB32_8/zeroshot.pt\"\n",
    "model2 = \"./models/wiseft/ViTB32_8/finetuned/checkpoint_10.pt\"\n",
    "model_ckpts = [model1,model2]\n",
    "eval_datasets = [\"DeterministicImageNet\",\"ImageNetV2\"]\n",
    "save = ???\n",
    "\n",
    "with open(\"central_results.txt\",\"r\") as file:\n",
    "    results = json.loads(file.read())\n",
    "    \n",
    "# Create accuracy table like in stack.py, iterate through keys"
   ]
  },
  {
   "cell_type": "code",
   "execution_count": null,
   "id": "774e401e",
   "metadata": {},
   "outputs": [],
   "source": [
    "t0 = time.time()\n",
    "model_names = copy.deepcopy(model_ckpts)\n",
    "model_names.append(\"WSE__\"+\"__\".join(model_ckpts)) # Weight space ensemble\n",
    "model_names.append(\"OSE__\"+\"__\".join(model_ckpts)) # Output space ensemble\n",
    "model_names.append(\"OAE__\"+\"__\".join(model_ckpts)) # Optimal alpha ensemble\n",
    "abbreviated_model_names = [f\"model{i+1}\" for i in range(len(model_ckpts))]+[\"WSE\",\"OSE\",\"OAE\"]\n",
    "for runNum in range(125,171):\n",
    "    model_names.append(\"Stack__\"+\"__\".join(model_ckpts)+f\"__{runNum}\") # Stacking ensemble,\"Stack\"]\n",
    "    abbreviated_model_names.append(f\"Stack_{runNum}\")\n",
    "\n",
    "accuracy_table = [[0 for j in model_names] for i in eval_datasets]\n",
    "val_loss_table = [[0 for j in model_names] for i in eval_datasets]\n",
    "for j in range(len(model_names)):\n",
    "    for i in range(len(eval_datasets)):\n",
    "        dataset_name = eval_datasets[i]\n",
    "        accuracy_table[i][j],val_loss_table[i][j] = __get_accuracy_and_val_loss(model_names[j],dataset_name,preprocess_fn,args)\n",
    "\n",
    "        # Save after each addition, so even if something goes wrong, what is completed so far will be saved.\n",
    "        accuracy_df = pd.DataFrame(accuracy_table, eval_datasets, abbreviated_model_names)\n",
    "        val_loss_df = pd.DataFrame(val_loss_table, eval_datasets, abbreviated_model_names)\n",
    "        if save is not None:\n",
    "            os.makedirs(save, exist_ok=True)\n",
    "            accuracy_df.to_csv(os.path.join(save, 'accuracy_table.csv')) # Overwrites existing file\n",
    "            val_loss_df.to_csv(os.path.join(save, 'val_loss_table.csv')) # Overwrites existing file\n",
    "\n",
    "# except KeyError as e:\n",
    "#     print(\"Some alphas not available.\")\n",
    "#     print(e)\n",
    "\n",
    "tf = time.time()\n",
    "total_time = tf-t0\n",
    "time_file = os.path.join(save, 'time.txt')\n",
    "with open(time_file,'w') as file:\n",
    "    file.write(f\"Total time for saveComparisons function: {round(total_time,3)} seconds = {round(total_time/60,4)} minutes.\")"
   ]
  },
  {
   "cell_type": "code",
   "execution_count": null,
   "id": "959c1968",
   "metadata": {},
   "outputs": [],
   "source": [
    "def __get_accuracy_and_val_loss(model_name,eval_dataset_name,preprocess_fn,args):\n",
    "    print(f\"\\nGetting accuracy and val loss of {model_name} on {eval_dataset_name}.\\n\")\n",
    "    centralized_results_file = \"./central_results.txt\"\n",
    "    key = f\"{model_name}, {eval_dataset_name}\"\n",
    "    with open(centralized_results_file,\"r\") as file:\n",
    "        results = json.loads(file.read())\n",
    "        if key in results.keys():\n",
    "            accuracy = results[key][\"accuracy\"]\n",
    "            val_loss = results[key][\"val_loss\"]\n",
    "    return accuracy,val_loss"
   ]
  }
 ],
 "metadata": {
  "kernelspec": {
   "display_name": "Python 3 (ipykernel)",
   "language": "python",
   "name": "python3"
  },
  "language_info": {
   "codemirror_mode": {
    "name": "ipython",
    "version": 3
   },
   "file_extension": ".py",
   "mimetype": "text/x-python",
   "name": "python",
   "nbconvert_exporter": "python",
   "pygments_lexer": "ipython3",
   "version": "3.9.12"
  }
 },
 "nbformat": 4,
 "nbformat_minor": 5
}
